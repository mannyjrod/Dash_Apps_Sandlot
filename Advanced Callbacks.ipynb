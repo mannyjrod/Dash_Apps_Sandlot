{
 "cells": [
  {
   "cell_type": "markdown",
   "metadata": {},
   "source": [
    "## Advanced Callbacks\n",
    "\n",
    "Author: Emmanuel Rodriguez\n",
    "\n",
    "[emmanueljrodriguez.com/](https://emmanueljrodriguez.com/)\n",
    "\n",
    "9JAN2024, Renton, Seattle, WA"
   ]
  },
  {
   "cell_type": "markdown",
   "metadata": {},
   "source": [
    "### Sharing Data Between Callbacks\n",
    "\n",
    "Ref: https://dash.plotly.com/sharing-data-between-callbacks"
   ]
  },
  {
   "cell_type": "markdown",
   "metadata": {},
   "source": [
    "#### CAUTION: Global Variables Will Break Your App, Use *Local* Variables Instead"
   ]
  },
  {
   "cell_type": "markdown",
   "metadata": {},
   "source": [
    "Dash apps are meant to be accessed by multiple users from their differing respective locations.\n",
    "\n",
    "As such, Dash is designed to work in multi-user environments where multiple people view the application at the same time and have **independent sessions**.\n",
    "\n",
    "Therefore, if the app is coded to where a global variable is modified, then one user's session could set the variable to some value which would affect the next user's session."
   ]
  },
  {
   "cell_type": "markdown",
   "metadata": {},
   "source": [
    "##### Example: Global Variable Modified"
   ]
  },
  {
   "cell_type": "code",
   "execution_count": 5,
   "metadata": {},
   "outputs": [
    {
     "name": "stdout",
     "output_type": "stream",
     "text": [
      "Dash is running on http://127.0.0.1:8050/\n",
      "\n",
      "Dash is running on http://127.0.0.1:8050/\n",
      "\n",
      "Dash is running on http://127.0.0.1:8050/\n",
      "\n",
      " * Serving Flask app \"__main__\" (lazy loading)\n",
      " * Environment: production\n",
      "   WARNING: This is a development server. Do not use it in a production deployment.\n",
      "   Use a production WSGI server instead.\n",
      " * Debug mode: on\n"
     ]
    }
   ],
   "source": [
    "# An example where a global variable is modified via the callback function:\n",
    "import pandas as pd\n",
    "from dash import Dash, dcc, html, Input, Output, callback\n",
    "\n",
    "# Data\n",
    "df = pd.DataFrame({\n",
    "    'student_id': range(1, 11),\n",
    "    'score': [1, 5, 2, 5, 2, 3, 1, 5, 1, 5]\n",
    "})\n",
    "\n",
    "# Initialize the app\n",
    "app = Dash(__name__)\n",
    "\n",
    "# App layout\n",
    "app.layout = html.Div([\n",
    "    dcc.Dropdown(list(range(1, 6)), 1, id='score'),\n",
    "    'was scored by this many students:',\n",
    "    html.Div(id='output'),\n",
    "])\n",
    "\n",
    "# Callback Controls to build the interaction\n",
    "# Recall: A Dash callback has two parts: \n",
    "\n",
    "# 1. Callback decorator - identifies the relevant components, defined in the layout section.\n",
    "@callback(Output('output', 'children'), Input('score', 'value'))\n",
    "\n",
    "# 2. Callback function - defines how those Dash components interact\n",
    "def update_output(value):\n",
    "    global df\n",
    "    df = df[df['score'] == value] # The df's 'score' row is sliced into, by setting the value of the 'student_id' as the input value. The resulting df is a df with an array of student scores that are equal to the input value; i.e., the same scores, with the number of times it shows in the original df.\n",
    "    return len(df) # The length of the df gives the number of students that scored this particular score.\n",
    "\n",
    "# Run the app\n",
    "if __name__ == '__main__':\n",
    "    app.run_server(debug=True, use_reloader=False)"
   ]
  },
  {
   "cell_type": "markdown",
   "metadata": {},
   "source": [
    "The callback returns the correct output the very first time it is called, but once the global `df` variable is modified on the first iteration, any subsequent callback that uses that dataframe is not using the original data anymore, rather it is using the amended df."
   ]
  },
  {
   "cell_type": "markdown",
   "metadata": {},
   "source": [
    "##### Example: Local Variable Modified"
   ]
  },
  {
   "cell_type": "code",
   "execution_count": 8,
   "metadata": {},
   "outputs": [
    {
     "name": "stdout",
     "output_type": "stream",
     "text": [
      "Dash is running on http://127.0.0.1:8050/\n",
      "\n",
      "Dash is running on http://127.0.0.1:8050/\n",
      "\n",
      "Dash is running on http://127.0.0.1:8050/\n",
      "\n",
      "Dash is running on http://127.0.0.1:8050/\n",
      "\n",
      "Dash is running on http://127.0.0.1:8050/\n",
      "\n",
      "Dash is running on http://127.0.0.1:8050/\n",
      "\n",
      " * Serving Flask app \"__main__\" (lazy loading)\n",
      " * Environment: production\n",
      "   WARNING: This is a development server. Do not use it in a production deployment.\n",
      "   Use a production WSGI server instead.\n",
      " * Debug mode: on\n"
     ]
    }
   ],
   "source": [
    "# An example where a local variable is modified, by reassigning the filtered dataframe to a new variable inside the callback\n",
    "\n",
    "# Data\n",
    "df = pd.DataFrame({\n",
    "    'student_id': range(1,11),\n",
    "    'score': [1, 5, 2, 5, 2, 3, 1, 5, 1, 5]\n",
    "})\n",
    "\n",
    "# Initialize the app\n",
    "app = Dash(__name__)\n",
    "\n",
    "# App layout\n",
    "app.layout = html.Div([\n",
    "    dcc.Dropdown(list(range(1, 6)), 1, id='score'),\n",
    "    'was scored by this many students:',\n",
    "    html.Div(id='output'),\n",
    "])\n",
    "\n",
    "# Callback Controls\n",
    "\n",
    "# 1. Callback decorator\n",
    "@callback(Output('output', 'children'), Input('score', 'value'))\n",
    "\n",
    "# 2. Callback function\n",
    "def update_output(value):\n",
    "    filtered_df = df[df['score'] == value] # This creates a new *local* variable, which will be amended everytime the callback is called based off the original input data.\n",
    "    return len(filtered_df) # The output is the length of the dataframe, the local variable, which translates to the number of times students scored this particular score value.\n",
    "\n",
    "# Run the app\n",
    "if __name__ == '__main__':\n",
    "    app.run_server(debug=True, use_reloader=False)"
   ]
  },
  {
   "cell_type": "markdown",
   "metadata": {},
   "source": [
    "The app now uses a local variable, by re-assigning the filtered dataframe to a new variable inside the callback."
   ]
  },
  {
   "cell_type": "markdown",
   "metadata": {},
   "source": [
    "### Storing Shared Data"
   ]
  },
  {
   "cell_type": "markdown",
   "metadata": {},
   "source": [
    "To share data across multiple processes or servers, data should be stored somewhere that is accessible to each of the processes.\n",
    "\n",
    "Three mainplaces to store data:\n",
    "* In the user's browser session, using `dcc.Store`\n",
    "* On the disk, such as a file or database\n",
    "* In server-side memory (RAM) shared across processes and servers such as a Redis database."
   ]
  },
  {
   "cell_type": "markdown",
   "metadata": {},
   "source": [
    "#### Example 1: Storing Data in the Browser with `dcc.Store`"
   ]
  },
  {
   "cell_type": "markdown",
   "metadata": {},
   "source": [
    "If processing a dataset takes a long time and different outputs use this dataset, `dcc.Store` can be used to store the processed data as an *intermediate value* that can then be used as an input in multiple callbacks to generate different outputs."
   ]
  },
  {
   "cell_type": "code",
   "execution_count": 10,
   "metadata": {},
   "outputs": [
    {
     "name": "stdout",
     "output_type": "stream",
     "text": [
      "Dash is running on http://127.0.0.1:8050/\n",
      "\n",
      "Dash is running on http://127.0.0.1:8050/\n",
      "\n",
      "Dash is running on http://127.0.0.1:8050/\n",
      "\n",
      "Dash is running on http://127.0.0.1:8050/\n",
      "\n",
      "Dash is running on http://127.0.0.1:8050/\n",
      "\n",
      "Dash is running on http://127.0.0.1:8050/\n",
      "\n",
      "Dash is running on http://127.0.0.1:8050/\n",
      "\n",
      "Dash is running on http://127.0.0.1:8050/\n",
      "\n",
      " * Serving Flask app \"__main__\" (lazy loading)\n",
      " * Environment: production\n",
      "   WARNING: This is a development server. Do not use it in a production deployment.\n",
      "   Use a production WSGI server instead.\n",
      " * Debug mode: on\n"
     ]
    }
   ],
   "source": [
    "# Import packages\n",
    "from dash import Dash, dcc, html, Input, Output, callback\n",
    "\n",
    "# Initalize the app\n",
    "app = Dash(__name__) # Dash constructor\n",
    "\n",
    "# App layout\n",
    "app.layout = html.Div([\n",
    "    dcc.Graph(id='graph'),\n",
    "    html.Table(id='table'),\n",
    "    dcc.Dropdown(id='dropdown'),\n",
    "    \n",
    "    # dcc.Store stores the intermediate value\n",
    "    dcc.Store(id='intermediate-value')\n",
    "])\n",
    "\n",
    "# Callback decorator - recall: this identifies the relevant components defined in the above layout section\n",
    "# Define the callback function - which defines how those Dash components should interact.\n",
    "@callback(Output('intermediate-value', 'data'), Input('dropdown', 'value'))\n",
    "def clean_data(value):\n",
    "    # some expensive data processing step\n",
    "    cleaned_df = slow_processing_step(value)\n",
    "    \n",
    "    # more generally, this line would be\n",
    "    # json.dumps(cleaned_df)\n",
    "    return cleaned_df.to_json(data_format='iso', orient='split')\n",
    "\n",
    "# Note the callback outputs the 'intermediate-value' which will be the input to the other callbacks within the app.\n",
    "\n",
    "@callback(Output('graph', 'figure'), Input('intermediate-value', 'data'))\n",
    "def update_graph(jsonified_cleaned_data):\n",
    "    \n",
    "    # more generally, this line would be\n",
    "    # json.loads(jsonified_cleaned_data)\n",
    "    dff = pd.read_json(jsonified_cleaned_data, orient='split')\n",
    "    \n",
    "    figure = create_figure(dff)\n",
    "    return figure\n",
    "\n",
    "@callback(Output('table', 'children'), Input('intermediate-value', 'data'))\n",
    "def update_table(jsonified_cleaned_data):\n",
    "    dff = pd.read_json(jsonified_cleaned_data, orient='split')\n",
    "    table = create_table(dff)\n",
    "    return table\n",
    "\n",
    "# Run the app\n",
    "if __name__ == '__main__':\n",
    "    app.run_server(debug=True, use_reloader=False)"
   ]
  },
  {
   "cell_type": "markdown",
   "metadata": {},
   "source": [
    "Note: The data is serialized into a JSON string before being placed into storage. Also note, how the processed data gets stored in `dcc.Store` by assigning the data as its output, and then the same data gets used by multiple callbacks by using the same `dcc.Store` as an input."
   ]
  },
  {
   "cell_type": "markdown",
   "metadata": {},
   "source": [
    "#### Example 3 - Caching and Signaling"
   ]
  },
  {
   "cell_type": "markdown",
   "metadata": {},
   "source": [
    "This example uses Redis via Flask-Cache for storing \"global variables\" on the server-side in a database. This data is accessed through a function (`global_store()`), the output of which is cached and keyed by its input arguments."
   ]
  },
  {
   "cell_type": "code",
   "execution_count": 1,
   "metadata": {},
   "outputs": [
    {
     "ename": "RuntimeError",
     "evalue": "no redis module found",
     "output_type": "error",
     "traceback": [
      "\u001b[1;31m---------------------------------------------------------------------------\u001b[0m",
      "\u001b[1;31mModuleNotFoundError\u001b[0m                       Traceback (most recent call last)",
      "\u001b[1;32m~\\anaconda3\\lib\\site-packages\\flask_caching\\backends\\rediscache.py\u001b[0m in \u001b[0;36mfactory\u001b[1;34m(cls, app, config, args, kwargs)\u001b[0m\n\u001b[0;32m     64\u001b[0m         \u001b[1;32mtry\u001b[0m\u001b[1;33m:\u001b[0m\u001b[1;33m\u001b[0m\u001b[1;33m\u001b[0m\u001b[0m\n\u001b[1;32m---> 65\u001b[1;33m             \u001b[1;32mfrom\u001b[0m \u001b[0mredis\u001b[0m \u001b[1;32mimport\u001b[0m \u001b[0mfrom_url\u001b[0m \u001b[1;32mas\u001b[0m \u001b[0mredis_from_url\u001b[0m\u001b[1;33m\u001b[0m\u001b[1;33m\u001b[0m\u001b[0m\n\u001b[0m\u001b[0;32m     66\u001b[0m         \u001b[1;32mexcept\u001b[0m \u001b[0mImportError\u001b[0m \u001b[1;32mas\u001b[0m \u001b[0me\u001b[0m\u001b[1;33m:\u001b[0m\u001b[1;33m\u001b[0m\u001b[1;33m\u001b[0m\u001b[0m\n",
      "\u001b[1;31mModuleNotFoundError\u001b[0m: No module named 'redis'",
      "\nThe above exception was the direct cause of the following exception:\n",
      "\u001b[1;31mRuntimeError\u001b[0m                              Traceback (most recent call last)",
      "\u001b[1;32m<ipython-input-1-f682eb111034>\u001b[0m in \u001b[0;36m<module>\u001b[1;34m\u001b[0m\n\u001b[0;32m     36\u001b[0m }\n\u001b[0;32m     37\u001b[0m \u001b[0mcache\u001b[0m \u001b[1;33m=\u001b[0m \u001b[0mCache\u001b[0m\u001b[1;33m(\u001b[0m\u001b[1;33m)\u001b[0m \u001b[1;31m# Instantiate Cache using the 'Cache()' class\u001b[0m\u001b[1;33m\u001b[0m\u001b[1;33m\u001b[0m\u001b[0m\n\u001b[1;32m---> 38\u001b[1;33m \u001b[0mcache\u001b[0m\u001b[1;33m.\u001b[0m\u001b[0minit_app\u001b[0m\u001b[1;33m(\u001b[0m\u001b[0mapp\u001b[0m\u001b[1;33m.\u001b[0m\u001b[0mserver\u001b[0m\u001b[1;33m,\u001b[0m \u001b[0mconfig\u001b[0m\u001b[1;33m=\u001b[0m\u001b[0mCACHE_CONFIG\u001b[0m\u001b[1;33m)\u001b[0m \u001b[1;31m# Setup Cache instance using the 'init_app' method\u001b[0m\u001b[1;33m\u001b[0m\u001b[1;33m\u001b[0m\u001b[0m\n\u001b[0m\u001b[0;32m     39\u001b[0m \u001b[1;33m\u001b[0m\u001b[0m\n\u001b[0;32m     40\u001b[0m \u001b[1;31m# Data\u001b[0m\u001b[1;33m\u001b[0m\u001b[1;33m\u001b[0m\u001b[1;33m\u001b[0m\u001b[0m\n",
      "\u001b[1;32m~\\anaconda3\\lib\\site-packages\\flask_caching\\__init__.py\u001b[0m in \u001b[0;36minit_app\u001b[1;34m(self, app, config)\u001b[0m\n\u001b[0;32m    134\u001b[0m             \u001b[0mapp\u001b[0m\u001b[1;33m.\u001b[0m\u001b[0mjinja_env\u001b[0m\u001b[1;33m.\u001b[0m\u001b[0madd_extension\u001b[0m\u001b[1;33m(\u001b[0m\u001b[0mCacheExtension\u001b[0m\u001b[1;33m)\u001b[0m\u001b[1;33m\u001b[0m\u001b[1;33m\u001b[0m\u001b[0m\n\u001b[0;32m    135\u001b[0m \u001b[1;33m\u001b[0m\u001b[0m\n\u001b[1;32m--> 136\u001b[1;33m         \u001b[0mself\u001b[0m\u001b[1;33m.\u001b[0m\u001b[0m_set_cache\u001b[0m\u001b[1;33m(\u001b[0m\u001b[0mapp\u001b[0m\u001b[1;33m,\u001b[0m \u001b[0mconfig\u001b[0m\u001b[1;33m)\u001b[0m\u001b[1;33m\u001b[0m\u001b[1;33m\u001b[0m\u001b[0m\n\u001b[0m\u001b[0;32m    137\u001b[0m \u001b[1;33m\u001b[0m\u001b[0m\n\u001b[0;32m    138\u001b[0m     \u001b[1;32mdef\u001b[0m \u001b[0m_set_cache\u001b[0m\u001b[1;33m(\u001b[0m\u001b[0mself\u001b[0m\u001b[1;33m,\u001b[0m \u001b[0mapp\u001b[0m\u001b[1;33m:\u001b[0m \u001b[0mFlask\u001b[0m\u001b[1;33m,\u001b[0m \u001b[0mconfig\u001b[0m\u001b[1;33m)\u001b[0m \u001b[1;33m->\u001b[0m \u001b[1;32mNone\u001b[0m\u001b[1;33m:\u001b[0m\u001b[1;33m\u001b[0m\u001b[1;33m\u001b[0m\u001b[0m\n",
      "\u001b[1;32m~\\anaconda3\\lib\\site-packages\\flask_caching\\__init__.py\u001b[0m in \u001b[0;36m_set_cache\u001b[1;34m(self, app, config)\u001b[0m\n\u001b[0;32m    165\u001b[0m \u001b[1;33m\u001b[0m\u001b[0m\n\u001b[0;32m    166\u001b[0m         \u001b[0mapp\u001b[0m\u001b[1;33m.\u001b[0m\u001b[0mextensions\u001b[0m\u001b[1;33m.\u001b[0m\u001b[0msetdefault\u001b[0m\u001b[1;33m(\u001b[0m\u001b[1;34m\"cache\"\u001b[0m\u001b[1;33m,\u001b[0m \u001b[1;33m{\u001b[0m\u001b[1;33m}\u001b[0m\u001b[1;33m)\u001b[0m\u001b[1;33m\u001b[0m\u001b[1;33m\u001b[0m\u001b[0m\n\u001b[1;32m--> 167\u001b[1;33m         app.extensions[\"cache\"][self] = cache_factory(\n\u001b[0m\u001b[0;32m    168\u001b[0m             \u001b[0mapp\u001b[0m\u001b[1;33m,\u001b[0m \u001b[0mconfig\u001b[0m\u001b[1;33m,\u001b[0m \u001b[0mcache_args\u001b[0m\u001b[1;33m,\u001b[0m \u001b[0mcache_options\u001b[0m\u001b[1;33m\u001b[0m\u001b[1;33m\u001b[0m\u001b[0m\n\u001b[0;32m    169\u001b[0m         )\n",
      "\u001b[1;32m~\\anaconda3\\lib\\site-packages\\flask_caching\\backends\\rediscache.py\u001b[0m in \u001b[0;36mfactory\u001b[1;34m(cls, app, config, args, kwargs)\u001b[0m\n\u001b[0;32m     65\u001b[0m             \u001b[1;32mfrom\u001b[0m \u001b[0mredis\u001b[0m \u001b[1;32mimport\u001b[0m \u001b[0mfrom_url\u001b[0m \u001b[1;32mas\u001b[0m \u001b[0mredis_from_url\u001b[0m\u001b[1;33m\u001b[0m\u001b[1;33m\u001b[0m\u001b[0m\n\u001b[0;32m     66\u001b[0m         \u001b[1;32mexcept\u001b[0m \u001b[0mImportError\u001b[0m \u001b[1;32mas\u001b[0m \u001b[0me\u001b[0m\u001b[1;33m:\u001b[0m\u001b[1;33m\u001b[0m\u001b[1;33m\u001b[0m\u001b[0m\n\u001b[1;32m---> 67\u001b[1;33m             \u001b[1;32mraise\u001b[0m \u001b[0mRuntimeError\u001b[0m\u001b[1;33m(\u001b[0m\u001b[1;34m\"no redis module found\"\u001b[0m\u001b[1;33m)\u001b[0m \u001b[1;32mfrom\u001b[0m \u001b[0me\u001b[0m\u001b[1;33m\u001b[0m\u001b[1;33m\u001b[0m\u001b[0m\n\u001b[0m\u001b[0;32m     68\u001b[0m \u001b[1;33m\u001b[0m\u001b[0m\n\u001b[0;32m     69\u001b[0m         kwargs.update(\n",
      "\u001b[1;31mRuntimeError\u001b[0m: no redis module found"
     ]
    }
   ],
   "source": [
    "# Caching and Signaling\n",
    "# Cache (computing) - a cache is a software component that stores data so that future requests for that data can be \n",
    "# served faster; the data stored in a cache might be the result of an earlier computation or a copy of data stored elsewhere.\n",
    "\n",
    "# Import libraries\n",
    "import os, copy, time\n",
    "\n",
    "from dash import Dash, dcc, html, Input, Output, callback\n",
    "\n",
    "import numpy as np\n",
    "import pandas as pd\n",
    "from flask_caching import Cache # Flask-Caching is an extension to Flask that adds caching support for various backends to \n",
    "# any Flask application.\n",
    "\n",
    "# Set style sheets\n",
    "external_stylesheets = [\n",
    "    # Dash CSS\n",
    "    'https://codepen.io/chriddyp/pen/bWLwgP.css',\n",
    "    # Loading screen CSS\n",
    "    'https://codepen.io/chriddyp/pen/brPBPO.css']\n",
    "\n",
    "# Initialize the app\n",
    "app = Dash(__name__, external_stylesheets = external_stylesheets)\n",
    "server = app.server\n",
    "\n",
    "# Configure Flask-Caching\n",
    "# Notes on the configuration objects used:\n",
    "# 'CACHE_TYPE' - specifies which type of caching object to use. This string will be imported and instantiated.\n",
    "# 'redis' or 'RedisCache' is a built-in cache backend.\n",
    "# Note that \"backend\" refers to the parts of the code that allow the app to operate but that cannot be accessed by a user.\n",
    "\n",
    "CACHE_CONFIG = {\n",
    "    # try 'FileSystemCache' if you don't want to setup redis\n",
    "    'CACHE_TYPE': 'RedisCache',\n",
    "    'CACHE_REDIS_URL': os.environ.get('REDIS_URL','redis://localhost:6379')\n",
    "}\n",
    "cache = Cache() # Instantiate Cache using the 'Cache()' class\n",
    "cache.init_app(app.server, config=CACHE_CONFIG) # Setup Cache instance using the 'init_app' method \n",
    "\n",
    "# Data\n",
    "N = 100 # Variable\n",
    "\n",
    "df = pd.DataFrame({\n",
    "    'category': (\n",
    "        (['apples']*5*N) +\n",
    "        (['oranges']*10*N) +\n",
    "        (['figs']*20*N) +\n",
    "        (['pineapples']*15*N)\n",
    "    )\n",
    "})\n",
    "\n",
    "df['x'] = np.random.randn(len(df['category']))\n",
    "df['y'] = np.random.randn(len(df['category']))\n",
    "\n",
    "# App layout\n",
    "\n",
    "app.layout = html.Div([\n",
    "    dcc.Dropdown(df['category'].unique(), 'apples', id='dropdown'),\n",
    "    html.Div([\n",
    "        html.Div(dcc.Graph(id='graph-1'), className=\"six columns\"),\n",
    "        html.Div(dcc.Graph(id='graph-2'), className=\"six columns\"),\n",
    "    ], className=\"row\"),\n",
    "    html.Div([\n",
    "        html.Div(dcc.Graph(id='graph-3'), className=\"six columns\"),\n",
    "        html.Div(dcc.Graph(id='graph-4'), className=\"six columns\"),\n",
    "    ], className=\"row\"),\n",
    "    \n",
    "    # signal value to trigger callbacks\n",
    "    dcc.Store(id='signal')\n",
    "])\n",
    "\n",
    "# Perform expensive computations in this \"global store,\" these computations are cached\n",
    "# in a *globally* available redis memory store which is available across processes and \n",
    "# for all time.\n",
    "\n",
    "@cache.memoize() # Call the 'memoize()' function\n",
    "# The theory behind memoization is that if a function needs to be called several times in one request, it would\n",
    "# only be calculated the *first time* that function is called with those arguments, so as to avoid from hitting\n",
    "# the database every time this information is needed / the function is called.\n",
    "\n",
    "def global_store(value):\n",
    "    # Simulate expensive query\n",
    "    print(f'Computing value with {value}')\n",
    "    time.sleep(3) # A 3 second delay simulates an expensive process.\n",
    "    return df[df['category'] == value]\n",
    "\n",
    "def generate_figure(value, figure):\n",
    "    fig = copy.deecopy(figure)\n",
    "    filtered_dataframe = global_store(value)\n",
    "    fig['data'][0]['x'] = filtered_dataframe['x']\n",
    "    fig['data'][0]['y'] = filtered_dataframe['y']\n",
    "    fig['layout'] = {'margin': {'l':20, 'r':10, 'b':20, 't':10}}\n",
    "    return fig\n",
    "\n",
    "# Callbacks - controls to control the interactions\n",
    "@callback(Output('signal', 'data'), Input('dropdown', 'value'))\n",
    "def compute_value(value):\n",
    "    # Compute value and send a signal when done.\n",
    "    global_store(value)\n",
    "    return value\n",
    "\n",
    "# When the computation is complete, the signal is sent and the following four callbacks are executed in parallel\n",
    "# to render the graphs.\n",
    "# Each of these callbacks retrieves the data from the \"global server-side store\": the Redis cache.\n",
    "\n",
    "@callback(Output('graph-1', 'figure'), Input('signal', 'data'))\n",
    "def update_graph_1(value):\n",
    "    # generate_figure gets data from `global_store`.\n",
    "    # The data in `global_store` has already been computed by the \n",
    "    # `compute_value` callback and the result is stored in the\n",
    "    # *global* redis cached.\n",
    "    return generate_figure(value, {\n",
    "        'data': [{\n",
    "            'type': 'scatter',\n",
    "            'mode': 'markers',\n",
    "            'marker': {\n",
    "                'opacity': 0.5,\n",
    "                'size': 14,\n",
    "                'line': {'border': 'thin darkgrey solid'}\n",
    "            }\n",
    "        }]\n",
    "    })\n",
    "\n",
    "@callback(Output('graph-2', 'figure'), Input('signal', 'data'))\n",
    "def update_graph_2(value):\n",
    "    return generate_figure(value, {\n",
    "        'data': [{\n",
    "            'type': 'scatter',\n",
    "            'mode': 'lines',\n",
    "            'line': {'shape': 'spline', 'width': 0.5},\n",
    "        }]\n",
    "    })\n",
    "\n",
    "@callback(Output('graph-3', 'figure'), Input('signal', 'data'))\n",
    "def update_graph_3(value):\n",
    "    return generate_figure(value, {\n",
    "        'data': [{\n",
    "            'type': 'histogram2d',\n",
    "        }]\n",
    "    })\n",
    "\n",
    "@callback(Output('graph-4', 'figure'), Input('signal', 'data'))\n",
    "def update_graph_4(value):\n",
    "    return generate_figure(value, {\n",
    "        'data': [{\n",
    "            'type': 'histogram2dcontour',\n",
    "        }]\n",
    "    })\n",
    "\n",
    "# Run the app\n",
    "if __name__ == '__main__':\n",
    "    app.run_server(debug=True, use_reloader=False, processes=6, threaded=False)\n",
    "\n",
    "    # Set `processes=6` so that multiple callbacks can be executed in parallel. \n",
    "    # Because we are running the server with multiple processes, set `threaded=False`; a Flask\n",
    "    # server can't be both multi-process and multi-threaded."
   ]
  },
  {
   "cell_type": "code",
   "execution_count": 12,
   "metadata": {},
   "outputs": [
    {
     "ename": "NameError",
     "evalue": "name 'Cache' is not defined",
     "output_type": "error",
     "traceback": [
      "\u001b[1;31m---------------------------------------------------------------------------\u001b[0m",
      "\u001b[1;31mNameError\u001b[0m                                 Traceback (most recent call last)",
      "\u001b[1;32m<ipython-input-12-c3e640e7bffe>\u001b[0m in \u001b[0;36m<module>\u001b[1;34m\u001b[0m\n\u001b[1;32m----> 1\u001b[1;33m \u001b[0mhelp\u001b[0m\u001b[1;33m(\u001b[0m\u001b[0mCache\u001b[0m\u001b[1;33m(\u001b[0m\u001b[1;33m)\u001b[0m\u001b[1;33m)\u001b[0m\u001b[1;33m\u001b[0m\u001b[1;33m\u001b[0m\u001b[0m\n\u001b[0m",
      "\u001b[1;31mNameError\u001b[0m: name 'Cache' is not defined"
     ]
    }
   ],
   "source": [
    "help(Cache())"
   ]
  }
 ],
 "metadata": {
  "kernelspec": {
   "display_name": "Python 3",
   "language": "python",
   "name": "python3"
  },
  "language_info": {
   "codemirror_mode": {
    "name": "ipython",
    "version": 3
   },
   "file_extension": ".py",
   "mimetype": "text/x-python",
   "name": "python",
   "nbconvert_exporter": "python",
   "pygments_lexer": "ipython3",
   "version": "3.8.5"
  }
 },
 "nbformat": 4,
 "nbformat_minor": 4
}
