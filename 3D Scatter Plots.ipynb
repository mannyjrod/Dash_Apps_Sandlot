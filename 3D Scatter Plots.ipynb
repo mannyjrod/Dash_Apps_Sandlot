{
 "cells": [
  {
   "cell_type": "markdown",
   "metadata": {},
   "source": [
    "## Three-Dimensional Scatter Plots\n",
    "\n",
    "For the latest code revision, fork the code repo: https://github.com/mannyjrod/Dash_Apps_Sandlot\n",
    "\n",
    "Author: Emmanuel Rodriguez\n",
    "\n",
    "[emmanueljrodriguez.com/](https://emmanueljrodriguez.com/)\n",
    "\n",
    "Date: 18NOV2023\n",
    "\n",
    "Ref: https://dash-example-index.herokuapp.com/3d-scatter-plots"
   ]
  },
  {
   "cell_type": "code",
   "execution_count": 1,
   "metadata": {},
   "outputs": [],
   "source": [
    "# Import libraries\n",
    "from dash import Dash, dcc, html, Input, Output\n",
    "import plotly.express as px"
   ]
  },
  {
   "cell_type": "code",
   "execution_count": 2,
   "metadata": {},
   "outputs": [
    {
     "name": "stdout",
     "output_type": "stream",
     "text": [
      "Help on function iris in module plotly.data:\n",
      "\n",
      "iris()\n",
      "    Each row represents a flower.\n",
      "    \n",
      "    https://en.wikipedia.org/wiki/Iris_flower_data_set\n",
      "    \n",
      "    Returns:\n",
      "        A `pandas.DataFrame` with 150 rows and the following columns:\n",
      "        `['sepal_length', 'sepal_width', 'petal_length', 'petal_width', 'species', 'species_id']`.\n",
      "\n"
     ]
    }
   ],
   "source": [
    "help(px.data.iris)"
   ]
  },
  {
   "cell_type": "code",
   "execution_count": 3,
   "metadata": {},
   "outputs": [],
   "source": [
    "# Read data\n",
    "# Call the 'iris()' function\n",
    "\n",
    "df = px.data.iris()"
   ]
  },
  {
   "cell_type": "code",
   "execution_count": 4,
   "metadata": {},
   "outputs": [],
   "source": [
    "# Initialize the app\n",
    "app = Dash(__name__)\n",
    "\n",
    "# App layout\n",
    "app.layout = html.Div(\n",
    "    [\n",
    "        html.H4(\"Iris samples filtered by petal width\"), # Sets the header title of the HTML page\n",
    "        dcc.Graph(id=\"graph\"), # Call the class 'Graph' to output a Graph component, which will render the data viz, set the id argument to identify the dash component in the callback.\n",
    "        html.P(\"Petal Width:\"), # The 'P' in the context of HTML modules represents a 'Paragraph element' -- in the context of dash apps, it's being used to generate a text box.\n",
    "        dcc.RangeSlider(\n",
    "            id=\"range-slider\",\n",
    "            min=0,\n",
    "            max=2.5,\n",
    "            step=0.1,\n",
    "            marks={0: \"0\", 2.5: \"2.5\"},\n",
    "            value=[0.5, 2],\n",
    "        ), # The RangeSlider class in the module dash.dcc.RangeSlider outputs a RangeSlider component; a double slider with two handles.\n",
    "    ]\n",
    ")"
   ]
  },
  {
   "cell_type": "code",
   "execution_count": 5,
   "metadata": {},
   "outputs": [],
   "source": [
    "#help(dcc.Graph)\n",
    "#help(dcc.RangeSlider)"
   ]
  },
  {
   "cell_type": "code",
   "execution_count": 6,
   "metadata": {},
   "outputs": [],
   "source": [
    "# Callback\n",
    "\n",
    "@app.callback(\n",
    "    Output(\"graph\", \"figure\"), \n",
    "    Input(\"range-slider\", \"value\"),\n",
    ")\n",
    "\n",
    "# Define the callback function\n",
    "\n",
    "def update_chart(slider_range):\n",
    "    low, high = slider_range\n",
    "    mask = (df.petal_width > low) & (df.petal_width < high)\n",
    "    \n",
    "    fig = px.scatter_3d(\n",
    "        df[mask],\n",
    "        x=\"sepal_length\",\n",
    "        y=\"sepal_width\",\n",
    "        z=\"petal_width\",\n",
    "        color=\"species\",\n",
    "        hover_data=[\"petal_width\"],\n",
    "    )\n",
    "    return fig"
   ]
  },
  {
   "cell_type": "code",
   "execution_count": 7,
   "metadata": {},
   "outputs": [
    {
     "name": "stdout",
     "output_type": "stream",
     "text": [
      "Dash is running on http://127.0.0.1:8050/\n",
      "\n",
      " * Serving Flask app \"__main__\" (lazy loading)\n",
      " * Environment: production\n",
      "   WARNING: This is a development server. Do not use it in a production deployment.\n",
      "   Use a production WSGI server instead.\n",
      " * Debug mode: on\n"
     ]
    }
   ],
   "source": [
    "# Run the app\n",
    "if __name__ == \"__main__\":\n",
    "    app.run_server(debug=True, use_reloader=False)\n",
    "    \n",
    "# Recall, to (manually) stop execution, use 'I + I'"
   ]
  }
 ],
 "metadata": {
  "kernelspec": {
   "display_name": "Python 3",
   "language": "python",
   "name": "python3"
  },
  "language_info": {
   "codemirror_mode": {
    "name": "ipython",
    "version": 3
   },
   "file_extension": ".py",
   "mimetype": "text/x-python",
   "name": "python",
   "nbconvert_exporter": "python",
   "pygments_lexer": "ipython3",
   "version": "3.8.5"
  }
 },
 "nbformat": 4,
 "nbformat_minor": 4
}
