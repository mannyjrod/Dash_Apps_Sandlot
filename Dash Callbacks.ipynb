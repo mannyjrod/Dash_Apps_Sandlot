{
 "cells": [
  {
   "cell_type": "markdown",
   "metadata": {},
   "source": [
    "## Basic Callbacks\n",
    "\n",
    "For the latest code revision, fork the code repo: https://github.com/mannyjrod/Dash_Apps_Sandlot\n",
    "\n",
    "Author: Emmanuel Rodriguez\n",
    "\n",
    "[emmanueljrodriguez.com/](https://emmanueljrodriguez.com/)\n",
    "\n",
    "Date: 19NOV2023\n",
    "\n",
    "Ref: https://dash.plotly.com/basic-callbacks"
   ]
  },
  {
   "cell_type": "markdown",
   "metadata": {},
   "source": [
    "Ref: Schroeder, A. *The Book of Dash*, p. 61"
   ]
  },
  {
   "cell_type": "markdown",
   "metadata": {},
   "source": [
    "\"A *Dash callback* enables user interactivity within the dashboard app; it is the mechanism that connects the Dash components to each other so that performing one action causes something else to happen.\n",
    "\n",
    "E.g., When the app user selects a dropdown value, the figure is updated; when the user clicks a button, the color of the app's title changes or another graph is added to the page. I.e., Without callbacks, the app is static and the user cannot modify anything.\""
   ]
  },
  {
   "cell_type": "markdown",
   "metadata": {},
   "source": [
    "The Dash callback has two parts:\n",
    "\n",
    "1. The **callback decorator** that identifies the relevant components, defined in the layout section:\n",
    "\n",
    "`@app.callback()`\n",
    "\n",
    "2. The **callback function** that defines how those Dash components should interact:\n",
    "\n",
    "`def function_name(y):\n",
    "    return x`"
   ]
  },
  {
   "cell_type": "markdown",
   "metadata": {},
   "source": [
    "Defined by dash.plotly as:\n",
    "\n",
    "\"*Callback functions:* functions that are automatically called by Dash whenever an input component's property changes, in order to update some property in another component (the output).\"\n",
    "\n",
    "Ref: https://dash.plotly.com/basic-callbacks"
   ]
  },
  {
   "cell_type": "markdown",
   "metadata": {},
   "source": [
    "### Simple Interactive Dash App"
   ]
  },
  {
   "cell_type": "code",
   "execution_count": 1,
   "metadata": {},
   "outputs": [],
   "source": [
    "# Load packages\n",
    "from dash import Dash, dcc, html, Input, Output, callback\n",
    "\n",
    "# Initialize the app\n",
    "app = Dash(__name__)\n",
    "\n",
    "# App layout\n",
    "app.layout = html.Div([\n",
    "    html.H6(\"Change the value in the text box to see callbacks in action!\"),\n",
    "    html.Div([\n",
    "        \"Input: \",\n",
    "        dcc.Input(id='my-input', value='initial value', type='text')\n",
    "    ]),\n",
    "    html.Br(),\n",
    "    html.Div(id='my-output'),\n",
    "])"
   ]
  },
  {
   "cell_type": "code",
   "execution_count": 6,
   "metadata": {},
   "outputs": [
    {
     "name": "stdout",
     "output_type": "stream",
     "text": [
      "Dash is running on http://127.0.0.1:8050/\n",
      "\n",
      " * Serving Flask app \"__main__\" (lazy loading)\n",
      " * Environment: production\n",
      "   WARNING: This is a development server. Do not use it in a production deployment.\n",
      "   Use a production WSGI server instead.\n",
      " * Debug mode: on\n"
     ]
    },
    {
     "name": "stderr",
     "output_type": "stream",
     "text": [
      "Traceback (most recent call last):\n",
      "  File \"C:\\Users\\ejoaq\\anaconda3\\Lib\\site-packages\\flask\\app.py\", line 2464, in __call__\n",
      "    return self.wsgi_app(environ, start_response)\n",
      "  File \"C:\\Users\\ejoaq\\anaconda3\\Lib\\site-packages\\flask\\app.py\", line 2450, in wsgi_app\n",
      "    response = self.handle_exception(e)\n",
      "  File \"C:\\Users\\ejoaq\\anaconda3\\Lib\\site-packages\\flask\\app.py\", line 1867, in handle_exception\n",
      "    reraise(exc_type, exc_value, tb)\n",
      "  File \"C:\\Users\\ejoaq\\anaconda3\\Lib\\site-packages\\flask\\_compat.py\", line 39, in reraise\n",
      "    raise value\n",
      "  File \"C:\\Users\\ejoaq\\anaconda3\\Lib\\site-packages\\flask\\app.py\", line 2447, in wsgi_app\n",
      "    response = self.full_dispatch_request()\n",
      "  File \"C:\\Users\\ejoaq\\anaconda3\\Lib\\site-packages\\flask\\app.py\", line 1945, in full_dispatch_request\n",
      "    self.try_trigger_before_first_request_functions()\n",
      "  File \"C:\\Users\\ejoaq\\anaconda3\\Lib\\site-packages\\flask\\app.py\", line 1993, in try_trigger_before_first_request_functions\n",
      "    func()\n",
      "  File \"C:\\Users\\ejoaq\\anaconda3\\Lib\\site-packages\\dash\\dash.py\", line 1497, in _setup_server\n",
      "    raise DuplicateCallback(\n",
      "dash.exceptions.DuplicateCallback: The callback `my-output.children` provided with `dash.callback` was already assigned with `app.callback`.\n",
      "Traceback (most recent call last):\n",
      "  File \"C:\\Users\\ejoaq\\anaconda3\\Lib\\site-packages\\flask\\app.py\", line 2464, in __call__\n",
      "    return self.wsgi_app(environ, start_response)\n",
      "  File \"C:\\Users\\ejoaq\\anaconda3\\Lib\\site-packages\\flask\\app.py\", line 2450, in wsgi_app\n",
      "    response = self.handle_exception(e)\n",
      "  File \"C:\\Users\\ejoaq\\anaconda3\\Lib\\site-packages\\flask\\app.py\", line 1867, in handle_exception\n",
      "    reraise(exc_type, exc_value, tb)\n",
      "  File \"C:\\Users\\ejoaq\\anaconda3\\Lib\\site-packages\\flask\\_compat.py\", line 39, in reraise\n",
      "    raise value\n",
      "  File \"C:\\Users\\ejoaq\\anaconda3\\Lib\\site-packages\\flask\\app.py\", line 2447, in wsgi_app\n",
      "    response = self.full_dispatch_request()\n",
      "  File \"C:\\Users\\ejoaq\\anaconda3\\Lib\\site-packages\\flask\\app.py\", line 1945, in full_dispatch_request\n",
      "    self.try_trigger_before_first_request_functions()\n",
      "  File \"C:\\Users\\ejoaq\\anaconda3\\Lib\\site-packages\\flask\\app.py\", line 1993, in try_trigger_before_first_request_functions\n",
      "    func()\n",
      "  File \"C:\\Users\\ejoaq\\anaconda3\\Lib\\site-packages\\dash\\dash.py\", line 1497, in _setup_server\n",
      "    raise DuplicateCallback(\n",
      "dash.exceptions.DuplicateCallback: The callback `my-output.children` provided with `dash.callback` was already assigned with `app.callback`.\n",
      "Traceback (most recent call last):\n",
      "  File \"C:\\Users\\ejoaq\\anaconda3\\Lib\\site-packages\\flask\\app.py\", line 2464, in __call__\n",
      "    return self.wsgi_app(environ, start_response)\n",
      "  File \"C:\\Users\\ejoaq\\anaconda3\\Lib\\site-packages\\flask\\app.py\", line 2450, in wsgi_app\n",
      "    response = self.handle_exception(e)\n",
      "  File \"C:\\Users\\ejoaq\\anaconda3\\Lib\\site-packages\\flask\\app.py\", line 1867, in handle_exception\n",
      "    reraise(exc_type, exc_value, tb)\n",
      "  File \"C:\\Users\\ejoaq\\anaconda3\\Lib\\site-packages\\flask\\_compat.py\", line 39, in reraise\n",
      "    raise value\n",
      "  File \"C:\\Users\\ejoaq\\anaconda3\\Lib\\site-packages\\flask\\app.py\", line 2447, in wsgi_app\n",
      "    response = self.full_dispatch_request()\n",
      "  File \"C:\\Users\\ejoaq\\anaconda3\\Lib\\site-packages\\flask\\app.py\", line 1945, in full_dispatch_request\n",
      "    self.try_trigger_before_first_request_functions()\n",
      "  File \"C:\\Users\\ejoaq\\anaconda3\\Lib\\site-packages\\flask\\app.py\", line 1993, in try_trigger_before_first_request_functions\n",
      "    func()\n",
      "  File \"C:\\Users\\ejoaq\\anaconda3\\Lib\\site-packages\\dash\\dash.py\", line 1497, in _setup_server\n",
      "    raise DuplicateCallback(\n",
      "dash.exceptions.DuplicateCallback: The callback `my-output.children` provided with `dash.callback` was already assigned with `app.callback`.\n",
      "Traceback (most recent call last):\n",
      "  File \"C:\\Users\\ejoaq\\anaconda3\\Lib\\site-packages\\flask\\app.py\", line 2464, in __call__\n",
      "    return self.wsgi_app(environ, start_response)\n",
      "  File \"C:\\Users\\ejoaq\\anaconda3\\Lib\\site-packages\\flask\\app.py\", line 2450, in wsgi_app\n",
      "    response = self.handle_exception(e)\n",
      "  File \"C:\\Users\\ejoaq\\anaconda3\\Lib\\site-packages\\flask\\app.py\", line 1867, in handle_exception\n",
      "    reraise(exc_type, exc_value, tb)\n",
      "  File \"C:\\Users\\ejoaq\\anaconda3\\Lib\\site-packages\\flask\\_compat.py\", line 39, in reraise\n",
      "    raise value\n",
      "  File \"C:\\Users\\ejoaq\\anaconda3\\Lib\\site-packages\\flask\\app.py\", line 2447, in wsgi_app\n",
      "    response = self.full_dispatch_request()\n",
      "  File \"C:\\Users\\ejoaq\\anaconda3\\Lib\\site-packages\\flask\\app.py\", line 1945, in full_dispatch_request\n",
      "    self.try_trigger_before_first_request_functions()\n",
      "  File \"C:\\Users\\ejoaq\\anaconda3\\Lib\\site-packages\\flask\\app.py\", line 1993, in try_trigger_before_first_request_functions\n",
      "    func()\n",
      "  File \"C:\\Users\\ejoaq\\anaconda3\\Lib\\site-packages\\dash\\dash.py\", line 1497, in _setup_server\n",
      "    raise DuplicateCallback(\n",
      "dash.exceptions.DuplicateCallback: The callback `my-output.children` provided with `dash.callback` was already assigned with `app.callback`.\n",
      "Traceback (most recent call last):\n",
      "  File \"C:\\Users\\ejoaq\\anaconda3\\Lib\\site-packages\\flask\\app.py\", line 2464, in __call__\n",
      "    return self.wsgi_app(environ, start_response)\n",
      "  File \"C:\\Users\\ejoaq\\anaconda3\\Lib\\site-packages\\flask\\app.py\", line 2450, in wsgi_app\n",
      "    response = self.handle_exception(e)\n",
      "  File \"C:\\Users\\ejoaq\\anaconda3\\Lib\\site-packages\\flask\\app.py\", line 1867, in handle_exception\n",
      "    reraise(exc_type, exc_value, tb)\n",
      "  File \"C:\\Users\\ejoaq\\anaconda3\\Lib\\site-packages\\flask\\_compat.py\", line 39, in reraise\n",
      "    raise value\n",
      "  File \"C:\\Users\\ejoaq\\anaconda3\\Lib\\site-packages\\flask\\app.py\", line 2447, in wsgi_app\n",
      "    response = self.full_dispatch_request()\n",
      "  File \"C:\\Users\\ejoaq\\anaconda3\\Lib\\site-packages\\flask\\app.py\", line 1945, in full_dispatch_request\n",
      "    self.try_trigger_before_first_request_functions()\n",
      "  File \"C:\\Users\\ejoaq\\anaconda3\\Lib\\site-packages\\flask\\app.py\", line 1993, in try_trigger_before_first_request_functions\n",
      "    func()\n",
      "  File \"C:\\Users\\ejoaq\\anaconda3\\Lib\\site-packages\\dash\\dash.py\", line 1497, in _setup_server\n",
      "    raise DuplicateCallback(\n",
      "dash.exceptions.DuplicateCallback: The callback `my-output.children` provided with `dash.callback` was already assigned with `app.callback`.\n",
      "Traceback (most recent call last):\n",
      "  File \"C:\\Users\\ejoaq\\anaconda3\\Lib\\site-packages\\flask\\app.py\", line 2464, in __call__\n",
      "    return self.wsgi_app(environ, start_response)\n",
      "  File \"C:\\Users\\ejoaq\\anaconda3\\Lib\\site-packages\\flask\\app.py\", line 2450, in wsgi_app\n",
      "    response = self.handle_exception(e)\n",
      "  File \"C:\\Users\\ejoaq\\anaconda3\\Lib\\site-packages\\flask\\app.py\", line 1867, in handle_exception\n",
      "    reraise(exc_type, exc_value, tb)\n",
      "  File \"C:\\Users\\ejoaq\\anaconda3\\Lib\\site-packages\\flask\\_compat.py\", line 39, in reraise\n",
      "    raise value\n",
      "  File \"C:\\Users\\ejoaq\\anaconda3\\Lib\\site-packages\\flask\\app.py\", line 2447, in wsgi_app\n",
      "    response = self.full_dispatch_request()\n",
      "  File \"C:\\Users\\ejoaq\\anaconda3\\Lib\\site-packages\\flask\\app.py\", line 1945, in full_dispatch_request\n",
      "    self.try_trigger_before_first_request_functions()\n",
      "  File \"C:\\Users\\ejoaq\\anaconda3\\Lib\\site-packages\\flask\\app.py\", line 1993, in try_trigger_before_first_request_functions\n",
      "    func()\n",
      "  File \"C:\\Users\\ejoaq\\anaconda3\\Lib\\site-packages\\dash\\dash.py\", line 1497, in _setup_server\n",
      "    raise DuplicateCallback(\n",
      "dash.exceptions.DuplicateCallback: The callback `my-output.children` provided with `dash.callback` was already assigned with `app.callback`.\n"
     ]
    }
   ],
   "source": [
    "# Callback decorator - recall: this identifies the relevant components defined in the above layout section\n",
    "@callback(\n",
    "    Output(component_id='my-output', component_property='children'),\n",
    "    Input(component_id='my-input', component_property='value')\n",
    ")\n",
    "\n",
    "# Define the callback function - which defines how those Dash components should interact.\n",
    "def update_output_div(input_value):\n",
    "    return f'Output: {input_value}'\n",
    "\n",
    "# Run the app\n",
    "if __name__ == '__main__':\n",
    "    app.run_server(debug=True, use_reloader=False)"
   ]
  },
  {
   "cell_type": "markdown",
   "metadata": {},
   "source": [
    "Dash Callbacks are a form of *Reactive Programming*; the outputs *react* to changes in the inputs automatically.\n",
    "\n",
    "\"It's sort of like programming with Microsoft Excel: whenever a cell changes (the input), all the cells that depend on that cell (the outputs) will get updated automatically.\""
   ]
  },
  {
   "cell_type": "markdown",
   "metadata": {},
   "source": [
    "### Dash App Layout With Figure and Slider"
   ]
  },
  {
   "cell_type": "code",
   "execution_count": 7,
   "metadata": {},
   "outputs": [
    {
     "name": "stdout",
     "output_type": "stream",
     "text": [
      "Dash is running on http://127.0.0.1:8050/\n",
      "\n",
      "Dash is running on http://127.0.0.1:8050/\n",
      "\n",
      " * Serving Flask app \"__main__\" (lazy loading)\n",
      " * Environment: production\n",
      "   WARNING: This is a development server. Do not use it in a production deployment.\n",
      "   Use a production WSGI server instead.\n",
      " * Debug mode: on\n"
     ]
    }
   ],
   "source": [
    "# Import packages\n",
    "from dash import Dash, dcc, html, Input, Output, callback\n",
    "import plotly.express as px\n",
    "\n",
    "import pandas as pd\n",
    "\n",
    "# Load data - note: The dataframe df is in the global state of the app and can be read inside the callback function.\n",
    "# This ensures the operation is only done once (loading data into memory can be expensive) -- when the app server starts.\n",
    "# Expensive initializations such as these, should be done in the global scope of the app.\n",
    "df = pd.read_csv('https://raw.githubusercontent.com/plotly/datasets/master/gapminderDataFiveYear.csv')\n",
    "\n",
    "# Initialize app\n",
    "app = Dash(__name__)\n",
    "\n",
    "# App layout configuration\n",
    "app.layout = html.Div([\n",
    "    dcc.Graph(id='graph-with-slider'),\n",
    "    dcc.Slider(\n",
    "        df['year'].min(),\n",
    "        df['year'].max(),\n",
    "        step=None,\n",
    "        value=df['year'].min(),\n",
    "        marks={str(year): str(year) for year in df['year'].unique()},\n",
    "        id='year-slider'\n",
    "    )\n",
    "])\n",
    "\n",
    "# Callback decorator - remember: The callback decorator registers the callback function with the Dash app, this 'tells'\n",
    "# the app when to call the function and how to use the return value of the function to update the app.\n",
    "\n",
    "# In this scenario, the app will call the callback function when the value of the year-slider changes, and the figure\n",
    "# graph-with-slider will change accordingly.\n",
    "@callback(\n",
    "    Output('graph-with-slider', 'figure'),\n",
    "    Input('year-slider', 'value'))\n",
    "\n",
    "# Callback function - wrapped by the callback decorator, holds the logic that will be executed when the function is called.\n",
    "\n",
    "# In this scenario, 'update_figure' is the name of the function, with the input argument set to 'selected_year'.\n",
    "# The df object year is set to the input argument, which is then used as the variable to slice the df, which is then set \n",
    "# to the 'filtered_df' variable. This *new* df is used to create a scatter plot.\n",
    "\n",
    "# Note: The callback does not modify the original data, it only creates copies of the dataframe ('filtered_df') by\n",
    "# filtering using pandas. -- Callbacks should NEVER modify variables outside of their scope, such as a global variable.\n",
    "def update_figure(selected_year):\n",
    "    filtered_df = df[df.year == selected_year]\n",
    "    \n",
    "    fig = px.scatter(filtered_df, x=\"gdpPercap\", y=\"lifeExp\",\n",
    "                    size=\"pop\", color=\"continent\", hover_name=\"country\",\n",
    "                    log_x=True, size_max=55)\n",
    "    \n",
    "    fig.update_layout(transition_duration=500) # the `layout.transition` object is set to 500 ms (?), essentially setting\n",
    "    # the chart to update from one state to the next smoothly, as if it were animated.\n",
    "    \n",
    "    return fig\n",
    "\n",
    "if __name__  == '__main__':\n",
    "    app.run_server(debug=True, use_reloader=False)"
   ]
  }
 ],
 "metadata": {
  "kernelspec": {
   "display_name": "Python 3",
   "language": "python",
   "name": "python3"
  },
  "language_info": {
   "codemirror_mode": {
    "name": "ipython",
    "version": 3
   },
   "file_extension": ".py",
   "mimetype": "text/x-python",
   "name": "python",
   "nbconvert_exporter": "python",
   "pygments_lexer": "ipython3",
   "version": "3.8.5"
  }
 },
 "nbformat": 4,
 "nbformat_minor": 4
}
