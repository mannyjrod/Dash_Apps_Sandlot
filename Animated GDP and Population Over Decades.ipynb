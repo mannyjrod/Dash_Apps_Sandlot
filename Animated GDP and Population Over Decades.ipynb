{
 "cells": [
  {
   "cell_type": "markdown",
   "metadata": {},
   "source": [
    "## Animated GDP and Population Over Decades\n",
    "\n",
    "### Dash App Layout With Figure, Slider, and Multiple Inputs\n",
    "\n",
    "For the latest code revision, fork the code repo: https://github.com/mannyjrod/Dash_Apps_Sandlot\n",
    "\n",
    "Author: Emmanuel Rodriguez\n",
    "\n",
    "[emmanueljrodriguez.com/](https://emmanueljrodriguez.com/)\n",
    "\n",
    "Date: 14NOV2023\n",
    "\n",
    "Ref: https://dash-example-index.herokuapp.com/animations"
   ]
  },
  {
   "cell_type": "code",
   "execution_count": 1,
   "metadata": {},
   "outputs": [],
   "source": [
    "# Import packages\n",
    "\n",
    "from dash import Dash, dcc, html, Input, Output\n",
    "import plotly.express as px\n",
    "\n",
    "# Load data - note: The dataframe df is in the global state of the app and can be read inside the callback function.\n",
    "# This ensures the operation is only done once (loading data into memory can be expensive) -- when the app server starts.\n",
    "# Expensive initializations such as these, should be done in the global scope of the app.\n",
    "\n",
    "df = px.data.gapminder() # 'gapminder' function in the 'module.data' imports data from https://www.gapminder.org/data/, \n",
    "# returning a pandas.Dataframe with 1704 rows of data, each representing one country"
   ]
  },
  {
   "cell_type": "code",
   "execution_count": 2,
   "metadata": {},
   "outputs": [
    {
     "data": {
      "text/html": [
       "<div>\n",
       "<style scoped>\n",
       "    .dataframe tbody tr th:only-of-type {\n",
       "        vertical-align: middle;\n",
       "    }\n",
       "\n",
       "    .dataframe tbody tr th {\n",
       "        vertical-align: top;\n",
       "    }\n",
       "\n",
       "    .dataframe thead th {\n",
       "        text-align: right;\n",
       "    }\n",
       "</style>\n",
       "<table border=\"1\" class=\"dataframe\">\n",
       "  <thead>\n",
       "    <tr style=\"text-align: right;\">\n",
       "      <th></th>\n",
       "      <th>country</th>\n",
       "      <th>continent</th>\n",
       "      <th>year</th>\n",
       "      <th>lifeExp</th>\n",
       "      <th>pop</th>\n",
       "      <th>gdpPercap</th>\n",
       "      <th>iso_alpha</th>\n",
       "      <th>iso_num</th>\n",
       "    </tr>\n",
       "  </thead>\n",
       "  <tbody>\n",
       "    <tr>\n",
       "      <th>0</th>\n",
       "      <td>Afghanistan</td>\n",
       "      <td>Asia</td>\n",
       "      <td>1952</td>\n",
       "      <td>28.801</td>\n",
       "      <td>8425333</td>\n",
       "      <td>779.445314</td>\n",
       "      <td>AFG</td>\n",
       "      <td>4</td>\n",
       "    </tr>\n",
       "    <tr>\n",
       "      <th>1</th>\n",
       "      <td>Afghanistan</td>\n",
       "      <td>Asia</td>\n",
       "      <td>1957</td>\n",
       "      <td>30.332</td>\n",
       "      <td>9240934</td>\n",
       "      <td>820.853030</td>\n",
       "      <td>AFG</td>\n",
       "      <td>4</td>\n",
       "    </tr>\n",
       "    <tr>\n",
       "      <th>2</th>\n",
       "      <td>Afghanistan</td>\n",
       "      <td>Asia</td>\n",
       "      <td>1962</td>\n",
       "      <td>31.997</td>\n",
       "      <td>10267083</td>\n",
       "      <td>853.100710</td>\n",
       "      <td>AFG</td>\n",
       "      <td>4</td>\n",
       "    </tr>\n",
       "    <tr>\n",
       "      <th>3</th>\n",
       "      <td>Afghanistan</td>\n",
       "      <td>Asia</td>\n",
       "      <td>1967</td>\n",
       "      <td>34.020</td>\n",
       "      <td>11537966</td>\n",
       "      <td>836.197138</td>\n",
       "      <td>AFG</td>\n",
       "      <td>4</td>\n",
       "    </tr>\n",
       "    <tr>\n",
       "      <th>4</th>\n",
       "      <td>Afghanistan</td>\n",
       "      <td>Asia</td>\n",
       "      <td>1972</td>\n",
       "      <td>36.088</td>\n",
       "      <td>13079460</td>\n",
       "      <td>739.981106</td>\n",
       "      <td>AFG</td>\n",
       "      <td>4</td>\n",
       "    </tr>\n",
       "  </tbody>\n",
       "</table>\n",
       "</div>"
      ],
      "text/plain": [
       "       country continent  year  lifeExp       pop   gdpPercap iso_alpha  \\\n",
       "0  Afghanistan      Asia  1952   28.801   8425333  779.445314       AFG   \n",
       "1  Afghanistan      Asia  1957   30.332   9240934  820.853030       AFG   \n",
       "2  Afghanistan      Asia  1962   31.997  10267083  853.100710       AFG   \n",
       "3  Afghanistan      Asia  1967   34.020  11537966  836.197138       AFG   \n",
       "4  Afghanistan      Asia  1972   36.088  13079460  739.981106       AFG   \n",
       "\n",
       "   iso_num  \n",
       "0        4  \n",
       "1        4  \n",
       "2        4  \n",
       "3        4  \n",
       "4        4  "
      ]
     },
     "execution_count": 2,
     "metadata": {},
     "output_type": "execute_result"
    }
   ],
   "source": [
    "# Get a quick visual of the data\n",
    "df.head()"
   ]
  },
  {
   "cell_type": "code",
   "execution_count": 3,
   "metadata": {},
   "outputs": [],
   "source": [
    "# Initialize app\n",
    "app = Dash(__name__)\n",
    "\n",
    "# App layout\n",
    "app.layout = html.Div(\n",
    "    [\n",
    "        html.H4(\"Animated GDP and population over decades\"), # A H4 component is a wrapper for the <h4> HTML5 element.\n",
    "        html.P(\"Select an animation:\"),\n",
    "        dcc.RadioItems(\n",
    "            id = \"selection\",\n",
    "            options=[\"GDP - Scatter\", \"Population - Bar\"],\n",
    "            value = \"GDP - Scatter\",\n",
    "        ),\n",
    "        dcc.Loading(dcc.Graph(id=\"graph\"), type=\"cube\"),\n",
    "    ]\n",
    ")"
   ]
  },
  {
   "cell_type": "code",
   "execution_count": 4,
   "metadata": {},
   "outputs": [
    {
     "data": {
      "text/plain": [
       "Div([H4('Animated GDP and population over decades'), P('Select an animation:'), RadioItems(options=['GDP - Scatter', 'Population - Bar'], value='GDP - Scatter', id='selection'), Loading(children=Graph(id='graph'), type='cube')])"
      ]
     },
     "execution_count": 4,
     "metadata": {},
     "output_type": "execute_result"
    }
   ],
   "source": [
    "app.layout"
   ]
  },
  {
   "cell_type": "code",
   "execution_count": 5,
   "metadata": {},
   "outputs": [],
   "source": [
    "# Callback decorator - remember: The callback decorator registers the callback function with the Dash app, this 'tells'\n",
    "# the app when to call the function and how to use the return value of the function to update the app.\n",
    "\n",
    "# In this scenario, the app will call the callback function when the value of \"selection\" changes, and the figure\n",
    "# \"graph\" will change accordingly.\n",
    "@app.callback(\n",
    "    Output(\"graph\", \"figure\"), Input(\"selection\", \"value\")\n",
    ")\n",
    "\n",
    "# Callback function - wrapped by the callback decorator, holds the logic that will be executed when the function is called.\n",
    "\n",
    "# In this scenario, 'display_animated_graph' is the name of the function, with the input argument set to 'selection'.\n",
    "def display_animated_graph(selection):\n",
    "    animations = {\n",
    "        \"GDP - Scatter\": px.scatter(\n",
    "            df,\n",
    "            x=\"gdpPercap\",\n",
    "            y=\"lifeExp\",\n",
    "            animation_frame=\"year\",\n",
    "            animation_group=\"country\",\n",
    "            size=\"pop\",\n",
    "            color=\"continent\",\n",
    "            hover_name=\"country\",\n",
    "            log_x=True,\n",
    "            size_max=55,\n",
    "            range_x=[100, 100000],\n",
    "            range_y=[25, 90],\n",
    "        ),\n",
    "        \"Population - Bar\": px.bar(\n",
    "            df,\n",
    "            x=\"continent\",\n",
    "            y=\"pop\",\n",
    "            color=\"continent\",\n",
    "            animation_frame=\"year\",\n",
    "            animation_group=\"country\",\n",
    "            range_y=[0, 4000000000],\n",
    "        ),\n",
    "    }\n",
    "    return animations[selection]"
   ]
  },
  {
   "cell_type": "code",
   "execution_count": 6,
   "metadata": {},
   "outputs": [
    {
     "name": "stdout",
     "output_type": "stream",
     "text": [
      "Dash is running on http://127.0.0.1:8050/\n",
      "\n",
      " * Serving Flask app \"__main__\" (lazy loading)\n",
      " * Environment: production\n",
      "   WARNING: This is a development server. Do not use it in a production deployment.\n",
      "   Use a production WSGI server instead.\n",
      " * Debug mode: on\n"
     ]
    }
   ],
   "source": [
    "# Run the app\n",
    "if __name__ == \"__main__\":\n",
    "    app.run_server(debug=True, use_reloader=False)"
   ]
  },
  {
   "cell_type": "code",
   "execution_count": 7,
   "metadata": {},
   "outputs": [],
   "source": [
    "#help(html.H4)\n",
    "#help(html.P)\n",
    "#help(px.data.gapminder)"
   ]
  }
 ],
 "metadata": {
  "kernelspec": {
   "display_name": "Python 3",
   "language": "python",
   "name": "python3"
  },
  "language_info": {
   "codemirror_mode": {
    "name": "ipython",
    "version": 3
   },
   "file_extension": ".py",
   "mimetype": "text/x-python",
   "name": "python",
   "nbconvert_exporter": "python",
   "pygments_lexer": "ipython3",
   "version": "3.8.5"
  }
 },
 "nbformat": 4,
 "nbformat_minor": 4
}
