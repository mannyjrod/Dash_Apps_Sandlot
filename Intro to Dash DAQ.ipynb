{
 "cells": [
  {
   "cell_type": "markdown",
   "metadata": {},
   "source": [
    "## Intro to Dash DAQ\n",
    "\n",
    "For the latest code revision, fork the code repo: https://github.com/mannyjrod/Dash_Apps_Sandlot\n",
    "\n",
    "Author: Emmanuel Rodriguez\n",
    "\n",
    "[emmanueljrodriguez.com/](https://emmanueljrodriguez.com/)\n",
    "\n",
    "27JAN2024, Renton, Seattle, WA\n",
    "\n",
    "Code ref:https://github.com/Coding-with-Adam/Dash-by-Plotly/tree/master/Dash%20Components/Daq_Components"
   ]
  },
  {
   "cell_type": "markdown",
   "metadata": {},
   "source": [
    "Note: You may need to `pip install dash_daq` as this library does not come pre-installed with `dash`. (Check with `pip list`.)"
   ]
  },
  {
   "cell_type": "markdown",
   "metadata": {},
   "source": [
    "### Example 1: Water Valve Pressure Readings"
   ]
  },
  {
   "cell_type": "code",
   "execution_count": 2,
   "metadata": {},
   "outputs": [],
   "source": [
    "# Import libraries\n",
    "from dash import Dash, dcc, html, Input, Output, callback\n",
    "import dash_daq as daq\n",
    "import plotly.graph_objects as go\n",
    "from random import randrange"
   ]
  },
  {
   "cell_type": "code",
   "execution_count": 3,
   "metadata": {},
   "outputs": [],
   "source": [
    "# Initialize app\n",
    "external_stylesheets = [\"https://codepen.io/chriddyp/pen/bWLwgP.css\"]\n",
    "app = Dash(__name__, external_stylesheets=external_stylesheets)"
   ]
  },
  {
   "cell_type": "code",
   "execution_count": 4,
   "metadata": {},
   "outputs": [],
   "source": [
    "# App layout\n",
    "app.layout=html.Div(\n",
    "    id=\"dark-light-theme\",\n",
    "    children=[\n",
    "        html.Div(\n",
    "            [\n",
    "                html.H1(\"Water Valve Pressure\", style={\"textAlign\":\"center\"}),\n",
    "                html.Div(\n",
    "                    daq.Tank(\n",
    "                        id=\"my-tank\",\n",
    "                        max=400,\n",
    "                        value=197,\n",
    "                        showCurrentValue=True,\n",
    "                        units=\"gallons\",\n",
    "                        style={\"margin-left\":\"50px\"},\n",
    "                    ),\n",
    "                    className=\"three columns\",\n",
    "                ),\n",
    "                html.Div(\n",
    "                    daq.Gauge(\n",
    "                        id=\"my-daq-gauge1\", min=0, max=10, value=6, label=\"Valve 1\"\n",
    "                    ),\n",
    "                    className=\"four columns\",\n",
    "                ),\n",
    "                html.Div(\n",
    "                    daq.Gauge(\n",
    "                        id=\"my-daq-gauge2\", min=0, max=10, value=9, label=\"Valve 2\"\n",
    "                    ),\n",
    "                    className=\"four columns\",\n",
    "                ),\n",
    "            ],\n",
    "            className=\"row\",\n",
    "        ),\n",
    "        html.Div(\n",
    "            html.Div(\n",
    "                daq.ToggleSwitch(\n",
    "                    id=\"my-toggle-switch\", label=\"Liters | Gallons\", value=True\n",
    "                ),\n",
    "                className=\"three columns\",\n",
    "            ),\n",
    "            className=\"row\",\n",
    "        ),\n",
    "        html.Div(\n",
    "            dcc.Graph(id=\"my-graph\", figure={}),\n",
    "            className=\"row\",\n",
    "        ),\n",
    "        dcc.Interval(id=\"timing\", interval=100, n_intervals=0),\n",
    "    ],\n",
    ")"
   ]
  },
  {
   "cell_type": "code",
   "execution_count": 5,
   "metadata": {},
   "outputs": [],
   "source": [
    "# Controls and Callbacks\n",
    "@callback(\n",
    "    Output(\"my-daq-gauge1\", \"value\"),\n",
    "    Output(\"my-daq-gauge2\", \"value\"),\n",
    "    Output(\"my-graph\", \"figure\"),\n",
    "    Input(\"timing\", \"n_intervals\"),\n",
    ")\n",
    "\n",
    "def update_g(n_intervals):\n",
    "    pressure_1 = randrange(10) # Mimics data pulled from a live database / instrumentation\n",
    "    pressure_2 = randrange(10)\n",
    "    \n",
    "    fig = go.Figure(\n",
    "        [\n",
    "            go.Bar(\n",
    "                x=[\"valve 1\", \"valve 2\"],\n",
    "                y=[pressure_1, pressure_2],\n",
    "            )\n",
    "        ]\n",
    "    )\n",
    "    fig.update_layout(yaxis={\"range\":[0,10]})\n",
    "    \n",
    "    return pressure_1, pressure_2, fig\n",
    "\n",
    "@callback(\n",
    "    Output(\"my-tank\", \"units\"),\n",
    "    Input(\"my-toggle-switch\", \"value\"),\n",
    ")\n",
    "\n",
    "def update_g(toggle):\n",
    "    if toggle:\n",
    "        return \"gallons\"\n",
    "    else:\n",
    "        return \"liters\""
   ]
  },
  {
   "cell_type": "code",
   "execution_count": 6,
   "metadata": {},
   "outputs": [
    {
     "name": "stdout",
     "output_type": "stream",
     "text": [
      "Dash is running on http://127.0.0.1:8050/\n",
      "\n",
      " * Serving Flask app \"__main__\" (lazy loading)\n",
      " * Environment: production\n",
      "   WARNING: This is a development server. Do not use it in a production deployment.\n",
      "   Use a production WSGI server instead.\n",
      " * Debug mode: on\n"
     ]
    }
   ],
   "source": [
    "# Run the app\n",
    "if __name__ == '__main__':\n",
    "    app.run_server(debug=True, use_reloader=False)"
   ]
  },
  {
   "cell_type": "markdown",
   "metadata": {},
   "source": [
    "### Example 2: xxxxxx"
   ]
  },
  {
   "cell_type": "code",
   "execution_count": 7,
   "metadata": {},
   "outputs": [],
   "source": [
    "# Import libraries\n",
    "from dash import Dash, dcc, html, Input, Output, callback\n",
    "import dash_daq as daq"
   ]
  },
  {
   "cell_type": "code",
   "execution_count": 8,
   "metadata": {},
   "outputs": [],
   "source": [
    "# Initialize app\n",
    "external_stylesheets = [\"https://codepen.io/chriddyp/pen/bWLwgP.css\"]\n",
    "app = Dash(__name__, external_stylesheets=external_stylesheets)"
   ]
  },
  {
   "cell_type": "code",
   "execution_count": 9,
   "metadata": {},
   "outputs": [],
   "source": [
    "# App layout\n",
    "app.layout = html.Div(\n",
    "    [\n",
    "        html.Div(\n",
    "            [\n",
    "                html.H1(\"Room Temperature\"),\n",
    "                html.Div(\n",
    "                    daq.Knob(\n",
    "                        id=\"my-knob\",\n",
    "                        label=\"Set Temperature\",\n",
    "                        min=30,\n",
    "                        max=100,\n",
    "                        value=40,\n",
    "                        scale={\"start\": 40, \"labelInterval\": 10, \"interval\": 10},\n",
    "                        color={\n",
    "                            \"gradient\": True,\n",
    "                            \"ranges\": {\"blue\": [30, 75], \"red\": [75, 100]},\n",
    "                        },\n",
    "                    ),\n",
    "                    className=\"two columns\",\n",
    "                ),\n",
    "                html.Div(\n",
    "                    daq.Thermometer(id=\"my-thermometer\", min=30, max=99, value=40),\n",
    "                    className=\"three columns\",\n",
    "                ),\n",
    "            ],\n",
    "            className=\"row\",\n",
    "        ),\n",
    "        html.Div(\n",
    "            [\n",
    "                html.Div(\n",
    "                    daq.ColorPicker(\n",
    "                        id=\"my-colorpicker\",\n",
    "                        label=\"Choose display color\",\n",
    "                        value={\"hex\": \"#39FF14\"},\n",
    "                    ),\n",
    "                    className=\"three columns\",\n",
    "                ),\n",
    "            ],\n",
    "            className=\"row\",\n",
    "        ),\n",
    "    ]\n",
    ")"
   ]
  },
  {
   "cell_type": "code",
   "execution_count": 10,
   "metadata": {},
   "outputs": [],
   "source": [
    "# Callbacks and Controls\n",
    "@callback(\n",
    "    Output(\"my-thermometer\", \"value\"),\n",
    "    Output(\"my-leddisplay\", \"value\"),\n",
    "    Output(\"my-leddisplay\", \"color\"),\n",
    "    Input(\"my-knob\", \"value\"),\n",
    "    Input(\"my-colorpicker\", \"value\"),\n",
    ")\n",
    "\n",
    "# Function\n",
    "def update(knob_value, color_chosen):\n",
    "    return knob_value, knob_value, color_chosen[\"hex\"]"
   ]
  },
  {
   "cell_type": "code",
   "execution_count": 11,
   "metadata": {},
   "outputs": [
    {
     "name": "stdout",
     "output_type": "stream",
     "text": [
      "Dash is running on http://127.0.0.1:8050/\n",
      "\n",
      "Dash is running on http://127.0.0.1:8050/\n",
      "\n",
      " * Serving Flask app \"__main__\" (lazy loading)\n",
      " * Environment: production\n",
      "   WARNING: This is a development server. Do not use it in a production deployment.\n",
      "   Use a production WSGI server instead.\n",
      " * Debug mode: on\n"
     ]
    }
   ],
   "source": [
    "# Run the app\n",
    "if __name__ == '__main__':\n",
    "    app.run_server(debug=True, use_reloader=False)"
   ]
  }
 ],
 "metadata": {
  "kernelspec": {
   "display_name": "Python 3",
   "language": "python",
   "name": "python3"
  },
  "language_info": {
   "codemirror_mode": {
    "name": "ipython",
    "version": 3
   },
   "file_extension": ".py",
   "mimetype": "text/x-python",
   "name": "python",
   "nbconvert_exporter": "python",
   "pygments_lexer": "ipython3",
   "version": "3.8.5"
  }
 },
 "nbformat": 4,
 "nbformat_minor": 4
}
