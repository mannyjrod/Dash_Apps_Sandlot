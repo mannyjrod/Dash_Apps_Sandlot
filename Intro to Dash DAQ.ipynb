{
 "cells": [
  {
   "cell_type": "markdown",
   "metadata": {},
   "source": [
    "## Intro to Dash DAQ\n",
    "\n",
    "For the latest code revision, fork the code repo: https://github.com/mannyjrod/Dash_Apps_Sandlot\n",
    "\n",
    "Author: Emmanuel Rodriguez\n",
    "\n",
    "[emmanueljrodriguez.com/](https://emmanueljrodriguez.com/)\n",
    "\n",
    "27JAN2024, Renton, Seattle, WA"
   ]
  },
  {
   "cell_type": "markdown",
   "metadata": {},
   "source": [
    "Note: You may need to `pip install dash_daq` as this library does not come pre-installed with `dash`. (Check with `pip list`.)"
   ]
  },
  {
   "cell_type": "code",
   "execution_count": 1,
   "metadata": {},
   "outputs": [],
   "source": [
    "# Import libraries\n",
    "from dash import Dash, dcc, html, Input, Output, callback\n",
    "import dash_daq as daq\n",
    "import plotly.graph_objects as go\n",
    "from random import randrange"
   ]
  },
  {
   "cell_type": "code",
   "execution_count": 2,
   "metadata": {},
   "outputs": [],
   "source": [
    "# Initialize app\n",
    "external_stylesheets = [\"https://codepen.io/chriddyp/pen/bWLwgP.css\"]\n",
    "app = Dash(__name__, external_stylesheets=external_stylesheets)"
   ]
  },
  {
   "cell_type": "code",
   "execution_count": 6,
   "metadata": {},
   "outputs": [],
   "source": [
    "# App layout\n",
    "app.layout=html.Div(\n",
    "    id=\"dark-light-theme\",\n",
    "    children=[\n",
    "        html.Div(\n",
    "            [\n",
    "                html.H1(\"Water Valve Pressure\", style={\"textAlign\":\"center\"}),\n",
    "                html.Div(\n",
    "                    daq.Tank(\n",
    "                        id=\"my-tank\",\n",
    "                        max=400,\n",
    "                        value=197,\n",
    "                        showCurrentValue=True,\n",
    "                        units=\"gallons\",\n",
    "                        style={\"margin-left\":\"50px\"},\n",
    "                    ),\n",
    "                    className=\"three columns\",\n",
    "                ),\n",
    "                html.Div(\n",
    "                    daq.Gauge(\n",
    "                        id=\"my-daq-gauge1\", min=0, max=10, value=6, label=\"Valve 1\"\n",
    "                    ),\n",
    "                    className=\"four columns\",\n",
    "                ),\n",
    "                html.Div(\n",
    "                    daq.Gauge(\n",
    "                        id=\"my-daq-gauge2\", min=0, max=10, value=9, label=\"Valve 2\"\n",
    "                    ),\n",
    "                    className=\"four columns\",\n",
    "                ),\n",
    "            ],\n",
    "            className=\"row\",\n",
    "        ),\n",
    "        html.Div(\n",
    "            html.Div(\n",
    "                daq.ToggleSwitch(\n",
    "                    id=\"my-toggle-switch\", label=\"Liters | Gallons\", value=True\n",
    "                ),\n",
    "                className=\"three columns\",\n",
    "            ),\n",
    "            className=\"row\",\n",
    "        ),\n",
    "        html.Div(\n",
    "            dcc.Graph(id=\"my-graph\", figure={}),\n",
    "            className=\"row\",\n",
    "        ),\n",
    "        dcc.Interval(id=\"timing\", interval=100, n_intervals=0),\n",
    "    ],\n",
    ")"
   ]
  },
  {
   "cell_type": "code",
   "execution_count": null,
   "metadata": {},
   "outputs": [],
   "source": [
    "# Controls and Callbacks\n",
    "@callback(\n",
    "    Output(\"my-daq-gauge1\", \"value\"),\n",
    "    Output(\"my-daq-gauge2\", \"value\"),\n",
    "    Output(\"my-graph\", \"figure\"),\n",
    "    Input(\"timing\", \"n_intervals\"),\n",
    ")\n",
    "\n",
    "def update_g(n_intervals):\n",
    "    pressure_1 = randrange(10)"
   ]
  }
 ],
 "metadata": {
  "kernelspec": {
   "display_name": "Python 3",
   "language": "python",
   "name": "python3"
  },
  "language_info": {
   "codemirror_mode": {
    "name": "ipython",
    "version": 3
   },
   "file_extension": ".py",
   "mimetype": "text/x-python",
   "name": "python",
   "nbconvert_exporter": "python",
   "pygments_lexer": "ipython3",
   "version": "3.8.5"
  }
 },
 "nbformat": 4,
 "nbformat_minor": 4
}
